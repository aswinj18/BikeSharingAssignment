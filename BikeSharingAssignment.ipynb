{
 "cells": [
  {
   "cell_type": "markdown",
   "id": "b8be12eb",
   "metadata": {},
   "source": [
    "# Bike Sharing Assignment"
   ]
  },
  {
   "cell_type": "markdown",
   "id": "d08b65e7",
   "metadata": {},
   "source": [
    "#### Importing all important libraries"
   ]
  },
  {
   "cell_type": "code",
   "execution_count": 1,
   "id": "515d1e60",
   "metadata": {},
   "outputs": [],
   "source": [
    "import pandas as pd\n",
    "import numpy as np\n",
    "import matplotlib.pyplot as plt\n",
    "import seaborn as sns\n",
    "\n",
    "from sklearn.model_selection import train_test_split\n",
    "from sklearn.preprocessing import MinMaxScaler\n",
    "from sklearn.feature_selection import RFE\n",
    "from sklearn.linear_model import LinearRegression\n",
    "from sklearn.metrics import r2_score\n",
    "\n",
    "import statsmodels.api as sm\n",
    "from statsmodels.stats.outliers_influence import variance_inflation_factor\n",
    "\n",
    "import warnings\n",
    "warnings.filterwarnings('ignore')"
   ]
  },
  {
   "cell_type": "markdown",
   "id": "6e679a44",
   "metadata": {},
   "source": [
    "#### Importing the data"
   ]
  },
  {
   "cell_type": "code",
   "execution_count": 2,
   "id": "848b574e",
   "metadata": {},
   "outputs": [
    {
     "data": {
      "text/html": [
       "<div>\n",
       "<style scoped>\n",
       "    .dataframe tbody tr th:only-of-type {\n",
       "        vertical-align: middle;\n",
       "    }\n",
       "\n",
       "    .dataframe tbody tr th {\n",
       "        vertical-align: top;\n",
       "    }\n",
       "\n",
       "    .dataframe thead th {\n",
       "        text-align: right;\n",
       "    }\n",
       "</style>\n",
       "<table border=\"1\" class=\"dataframe\">\n",
       "  <thead>\n",
       "    <tr style=\"text-align: right;\">\n",
       "      <th></th>\n",
       "      <th>instant</th>\n",
       "      <th>dteday</th>\n",
       "      <th>season</th>\n",
       "      <th>yr</th>\n",
       "      <th>mnth</th>\n",
       "      <th>holiday</th>\n",
       "      <th>weekday</th>\n",
       "      <th>workingday</th>\n",
       "      <th>weathersit</th>\n",
       "      <th>temp</th>\n",
       "      <th>atemp</th>\n",
       "      <th>hum</th>\n",
       "      <th>windspeed</th>\n",
       "      <th>casual</th>\n",
       "      <th>registered</th>\n",
       "      <th>cnt</th>\n",
       "    </tr>\n",
       "  </thead>\n",
       "  <tbody>\n",
       "    <tr>\n",
       "      <th>0</th>\n",
       "      <td>1</td>\n",
       "      <td>01-01-2018</td>\n",
       "      <td>1</td>\n",
       "      <td>0</td>\n",
       "      <td>1</td>\n",
       "      <td>0</td>\n",
       "      <td>6</td>\n",
       "      <td>0</td>\n",
       "      <td>2</td>\n",
       "      <td>14.110847</td>\n",
       "      <td>18.18125</td>\n",
       "      <td>80.5833</td>\n",
       "      <td>10.749882</td>\n",
       "      <td>331</td>\n",
       "      <td>654</td>\n",
       "      <td>985</td>\n",
       "    </tr>\n",
       "    <tr>\n",
       "      <th>1</th>\n",
       "      <td>2</td>\n",
       "      <td>02-01-2018</td>\n",
       "      <td>1</td>\n",
       "      <td>0</td>\n",
       "      <td>1</td>\n",
       "      <td>0</td>\n",
       "      <td>0</td>\n",
       "      <td>0</td>\n",
       "      <td>2</td>\n",
       "      <td>14.902598</td>\n",
       "      <td>17.68695</td>\n",
       "      <td>69.6087</td>\n",
       "      <td>16.652113</td>\n",
       "      <td>131</td>\n",
       "      <td>670</td>\n",
       "      <td>801</td>\n",
       "    </tr>\n",
       "    <tr>\n",
       "      <th>2</th>\n",
       "      <td>3</td>\n",
       "      <td>03-01-2018</td>\n",
       "      <td>1</td>\n",
       "      <td>0</td>\n",
       "      <td>1</td>\n",
       "      <td>0</td>\n",
       "      <td>1</td>\n",
       "      <td>1</td>\n",
       "      <td>1</td>\n",
       "      <td>8.050924</td>\n",
       "      <td>9.47025</td>\n",
       "      <td>43.7273</td>\n",
       "      <td>16.636703</td>\n",
       "      <td>120</td>\n",
       "      <td>1229</td>\n",
       "      <td>1349</td>\n",
       "    </tr>\n",
       "    <tr>\n",
       "      <th>3</th>\n",
       "      <td>4</td>\n",
       "      <td>04-01-2018</td>\n",
       "      <td>1</td>\n",
       "      <td>0</td>\n",
       "      <td>1</td>\n",
       "      <td>0</td>\n",
       "      <td>2</td>\n",
       "      <td>1</td>\n",
       "      <td>1</td>\n",
       "      <td>8.200000</td>\n",
       "      <td>10.60610</td>\n",
       "      <td>59.0435</td>\n",
       "      <td>10.739832</td>\n",
       "      <td>108</td>\n",
       "      <td>1454</td>\n",
       "      <td>1562</td>\n",
       "    </tr>\n",
       "    <tr>\n",
       "      <th>4</th>\n",
       "      <td>5</td>\n",
       "      <td>05-01-2018</td>\n",
       "      <td>1</td>\n",
       "      <td>0</td>\n",
       "      <td>1</td>\n",
       "      <td>0</td>\n",
       "      <td>3</td>\n",
       "      <td>1</td>\n",
       "      <td>1</td>\n",
       "      <td>9.305237</td>\n",
       "      <td>11.46350</td>\n",
       "      <td>43.6957</td>\n",
       "      <td>12.522300</td>\n",
       "      <td>82</td>\n",
       "      <td>1518</td>\n",
       "      <td>1600</td>\n",
       "    </tr>\n",
       "  </tbody>\n",
       "</table>\n",
       "</div>"
      ],
      "text/plain": [
       "   instant      dteday  season  yr  mnth  holiday  weekday  workingday   \n",
       "0        1  01-01-2018       1   0     1        0        6           0  \\\n",
       "1        2  02-01-2018       1   0     1        0        0           0   \n",
       "2        3  03-01-2018       1   0     1        0        1           1   \n",
       "3        4  04-01-2018       1   0     1        0        2           1   \n",
       "4        5  05-01-2018       1   0     1        0        3           1   \n",
       "\n",
       "   weathersit       temp     atemp      hum  windspeed  casual  registered   \n",
       "0           2  14.110847  18.18125  80.5833  10.749882     331         654  \\\n",
       "1           2  14.902598  17.68695  69.6087  16.652113     131         670   \n",
       "2           1   8.050924   9.47025  43.7273  16.636703     120        1229   \n",
       "3           1   8.200000  10.60610  59.0435  10.739832     108        1454   \n",
       "4           1   9.305237  11.46350  43.6957  12.522300      82        1518   \n",
       "\n",
       "    cnt  \n",
       "0   985  \n",
       "1   801  \n",
       "2  1349  \n",
       "3  1562  \n",
       "4  1600  "
      ]
     },
     "execution_count": 2,
     "metadata": {},
     "output_type": "execute_result"
    }
   ],
   "source": [
    "df = pd.read_csv(\"day.csv\")\n",
    "df.head()"
   ]
  },
  {
   "cell_type": "markdown",
   "id": "e0b1a5ac",
   "metadata": {},
   "source": [
    "## Step 1: Reading, Understanding, and Visualising the Data"
   ]
  },
  {
   "cell_type": "markdown",
   "id": "2cceb692",
   "metadata": {},
   "source": [
    "Taking care of null/missing values"
   ]
  },
  {
   "cell_type": "code",
   "execution_count": 3,
   "id": "69a5d0f1",
   "metadata": {},
   "outputs": [
    {
     "name": "stdout",
     "output_type": "stream",
     "text": [
      "<class 'pandas.core.frame.DataFrame'>\n",
      "RangeIndex: 730 entries, 0 to 729\n",
      "Data columns (total 16 columns):\n",
      " #   Column      Non-Null Count  Dtype  \n",
      "---  ------      --------------  -----  \n",
      " 0   instant     730 non-null    int64  \n",
      " 1   dteday      730 non-null    object \n",
      " 2   season      730 non-null    int64  \n",
      " 3   yr          730 non-null    int64  \n",
      " 4   mnth        730 non-null    int64  \n",
      " 5   holiday     730 non-null    int64  \n",
      " 6   weekday     730 non-null    int64  \n",
      " 7   workingday  730 non-null    int64  \n",
      " 8   weathersit  730 non-null    int64  \n",
      " 9   temp        730 non-null    float64\n",
      " 10  atemp       730 non-null    float64\n",
      " 11  hum         730 non-null    float64\n",
      " 12  windspeed   730 non-null    float64\n",
      " 13  casual      730 non-null    int64  \n",
      " 14  registered  730 non-null    int64  \n",
      " 15  cnt         730 non-null    int64  \n",
      "dtypes: float64(4), int64(11), object(1)\n",
      "memory usage: 91.4+ KB\n"
     ]
    }
   ],
   "source": [
    "df.info()"
   ]
  },
  {
   "cell_type": "markdown",
   "id": "4cce933b",
   "metadata": {},
   "source": [
    "So, no data to drop or impute"
   ]
  },
  {
   "cell_type": "markdown",
   "id": "fa5f97c7",
   "metadata": {},
   "source": [
    "Adding a derived column of day in the date, and dropping the dteday columns."
   ]
  },
  {
   "cell_type": "code",
   "execution_count": 4,
   "id": "4bf2e580",
   "metadata": {
    "scrolled": true
   },
   "outputs": [
    {
     "data": {
      "text/html": [
       "<div>\n",
       "<style scoped>\n",
       "    .dataframe tbody tr th:only-of-type {\n",
       "        vertical-align: middle;\n",
       "    }\n",
       "\n",
       "    .dataframe tbody tr th {\n",
       "        vertical-align: top;\n",
       "    }\n",
       "\n",
       "    .dataframe thead th {\n",
       "        text-align: right;\n",
       "    }\n",
       "</style>\n",
       "<table border=\"1\" class=\"dataframe\">\n",
       "  <thead>\n",
       "    <tr style=\"text-align: right;\">\n",
       "      <th></th>\n",
       "      <th>instant</th>\n",
       "      <th>season</th>\n",
       "      <th>yr</th>\n",
       "      <th>mnth</th>\n",
       "      <th>holiday</th>\n",
       "      <th>weekday</th>\n",
       "      <th>workingday</th>\n",
       "      <th>weathersit</th>\n",
       "      <th>temp</th>\n",
       "      <th>atemp</th>\n",
       "      <th>hum</th>\n",
       "      <th>windspeed</th>\n",
       "      <th>casual</th>\n",
       "      <th>registered</th>\n",
       "      <th>cnt</th>\n",
       "      <th>day</th>\n",
       "    </tr>\n",
       "  </thead>\n",
       "  <tbody>\n",
       "    <tr>\n",
       "      <th>0</th>\n",
       "      <td>1</td>\n",
       "      <td>1</td>\n",
       "      <td>0</td>\n",
       "      <td>1</td>\n",
       "      <td>0</td>\n",
       "      <td>6</td>\n",
       "      <td>0</td>\n",
       "      <td>2</td>\n",
       "      <td>14.110847</td>\n",
       "      <td>18.18125</td>\n",
       "      <td>80.5833</td>\n",
       "      <td>10.749882</td>\n",
       "      <td>331</td>\n",
       "      <td>654</td>\n",
       "      <td>985</td>\n",
       "      <td>01</td>\n",
       "    </tr>\n",
       "    <tr>\n",
       "      <th>1</th>\n",
       "      <td>2</td>\n",
       "      <td>1</td>\n",
       "      <td>0</td>\n",
       "      <td>1</td>\n",
       "      <td>0</td>\n",
       "      <td>0</td>\n",
       "      <td>0</td>\n",
       "      <td>2</td>\n",
       "      <td>14.902598</td>\n",
       "      <td>17.68695</td>\n",
       "      <td>69.6087</td>\n",
       "      <td>16.652113</td>\n",
       "      <td>131</td>\n",
       "      <td>670</td>\n",
       "      <td>801</td>\n",
       "      <td>02</td>\n",
       "    </tr>\n",
       "    <tr>\n",
       "      <th>2</th>\n",
       "      <td>3</td>\n",
       "      <td>1</td>\n",
       "      <td>0</td>\n",
       "      <td>1</td>\n",
       "      <td>0</td>\n",
       "      <td>1</td>\n",
       "      <td>1</td>\n",
       "      <td>1</td>\n",
       "      <td>8.050924</td>\n",
       "      <td>9.47025</td>\n",
       "      <td>43.7273</td>\n",
       "      <td>16.636703</td>\n",
       "      <td>120</td>\n",
       "      <td>1229</td>\n",
       "      <td>1349</td>\n",
       "      <td>03</td>\n",
       "    </tr>\n",
       "    <tr>\n",
       "      <th>3</th>\n",
       "      <td>4</td>\n",
       "      <td>1</td>\n",
       "      <td>0</td>\n",
       "      <td>1</td>\n",
       "      <td>0</td>\n",
       "      <td>2</td>\n",
       "      <td>1</td>\n",
       "      <td>1</td>\n",
       "      <td>8.200000</td>\n",
       "      <td>10.60610</td>\n",
       "      <td>59.0435</td>\n",
       "      <td>10.739832</td>\n",
       "      <td>108</td>\n",
       "      <td>1454</td>\n",
       "      <td>1562</td>\n",
       "      <td>04</td>\n",
       "    </tr>\n",
       "    <tr>\n",
       "      <th>4</th>\n",
       "      <td>5</td>\n",
       "      <td>1</td>\n",
       "      <td>0</td>\n",
       "      <td>1</td>\n",
       "      <td>0</td>\n",
       "      <td>3</td>\n",
       "      <td>1</td>\n",
       "      <td>1</td>\n",
       "      <td>9.305237</td>\n",
       "      <td>11.46350</td>\n",
       "      <td>43.6957</td>\n",
       "      <td>12.522300</td>\n",
       "      <td>82</td>\n",
       "      <td>1518</td>\n",
       "      <td>1600</td>\n",
       "      <td>05</td>\n",
       "    </tr>\n",
       "  </tbody>\n",
       "</table>\n",
       "</div>"
      ],
      "text/plain": [
       "   instant  season  yr  mnth  holiday  weekday  workingday  weathersit   \n",
       "0        1       1   0     1        0        6           0           2  \\\n",
       "1        2       1   0     1        0        0           0           2   \n",
       "2        3       1   0     1        0        1           1           1   \n",
       "3        4       1   0     1        0        2           1           1   \n",
       "4        5       1   0     1        0        3           1           1   \n",
       "\n",
       "        temp     atemp      hum  windspeed  casual  registered   cnt day  \n",
       "0  14.110847  18.18125  80.5833  10.749882     331         654   985  01  \n",
       "1  14.902598  17.68695  69.6087  16.652113     131         670   801  02  \n",
       "2   8.050924   9.47025  43.7273  16.636703     120        1229  1349  03  \n",
       "3   8.200000  10.60610  59.0435  10.739832     108        1454  1562  04  \n",
       "4   9.305237  11.46350  43.6957  12.522300      82        1518  1600  05  "
      ]
     },
     "execution_count": 4,
     "metadata": {},
     "output_type": "execute_result"
    }
   ],
   "source": [
    "df[ 'dteday' ] = pd.to_datetime( df[ 'dteday' ], format=\"%d-%m-%Y\" )\n",
    "df[ 'day' ] = df[ 'dteday' ].dt.strftime('%d')\n",
    "df.drop(columns=['dteday'], inplace=True)\n",
    "df.head()"
   ]
  },
  {
   "cell_type": "markdown",
   "id": "306bb0d2",
   "metadata": {},
   "source": [
    "Mapping Categorical Values as per the Description (from Readme.txt)"
   ]
  },
  {
   "cell_type": "code",
   "execution_count": 5,
   "id": "715df7d6",
   "metadata": {
    "scrolled": true
   },
   "outputs": [
    {
     "data": {
      "text/html": [
       "<div>\n",
       "<style scoped>\n",
       "    .dataframe tbody tr th:only-of-type {\n",
       "        vertical-align: middle;\n",
       "    }\n",
       "\n",
       "    .dataframe tbody tr th {\n",
       "        vertical-align: top;\n",
       "    }\n",
       "\n",
       "    .dataframe thead th {\n",
       "        text-align: right;\n",
       "    }\n",
       "</style>\n",
       "<table border=\"1\" class=\"dataframe\">\n",
       "  <thead>\n",
       "    <tr style=\"text-align: right;\">\n",
       "      <th></th>\n",
       "      <th>instant</th>\n",
       "      <th>season</th>\n",
       "      <th>yr</th>\n",
       "      <th>mnth</th>\n",
       "      <th>holiday</th>\n",
       "      <th>weekday</th>\n",
       "      <th>workingday</th>\n",
       "      <th>weathersit</th>\n",
       "      <th>temp</th>\n",
       "      <th>atemp</th>\n",
       "      <th>hum</th>\n",
       "      <th>windspeed</th>\n",
       "      <th>casual</th>\n",
       "      <th>registered</th>\n",
       "      <th>cnt</th>\n",
       "      <th>day</th>\n",
       "    </tr>\n",
       "  </thead>\n",
       "  <tbody>\n",
       "    <tr>\n",
       "      <th>0</th>\n",
       "      <td>1</td>\n",
       "      <td>spring</td>\n",
       "      <td>0</td>\n",
       "      <td>1</td>\n",
       "      <td>0</td>\n",
       "      <td>Mon</td>\n",
       "      <td>0</td>\n",
       "      <td>avg_weather</td>\n",
       "      <td>14.110847</td>\n",
       "      <td>18.18125</td>\n",
       "      <td>80.5833</td>\n",
       "      <td>10.749882</td>\n",
       "      <td>331</td>\n",
       "      <td>654</td>\n",
       "      <td>985</td>\n",
       "      <td>01</td>\n",
       "    </tr>\n",
       "    <tr>\n",
       "      <th>1</th>\n",
       "      <td>2</td>\n",
       "      <td>spring</td>\n",
       "      <td>0</td>\n",
       "      <td>1</td>\n",
       "      <td>0</td>\n",
       "      <td>Tues</td>\n",
       "      <td>0</td>\n",
       "      <td>avg_weather</td>\n",
       "      <td>14.902598</td>\n",
       "      <td>17.68695</td>\n",
       "      <td>69.6087</td>\n",
       "      <td>16.652113</td>\n",
       "      <td>131</td>\n",
       "      <td>670</td>\n",
       "      <td>801</td>\n",
       "      <td>02</td>\n",
       "    </tr>\n",
       "    <tr>\n",
       "      <th>2</th>\n",
       "      <td>3</td>\n",
       "      <td>spring</td>\n",
       "      <td>0</td>\n",
       "      <td>1</td>\n",
       "      <td>0</td>\n",
       "      <td>Wed</td>\n",
       "      <td>1</td>\n",
       "      <td>best_weather</td>\n",
       "      <td>8.050924</td>\n",
       "      <td>9.47025</td>\n",
       "      <td>43.7273</td>\n",
       "      <td>16.636703</td>\n",
       "      <td>120</td>\n",
       "      <td>1229</td>\n",
       "      <td>1349</td>\n",
       "      <td>03</td>\n",
       "    </tr>\n",
       "    <tr>\n",
       "      <th>3</th>\n",
       "      <td>4</td>\n",
       "      <td>spring</td>\n",
       "      <td>0</td>\n",
       "      <td>1</td>\n",
       "      <td>0</td>\n",
       "      <td>Thurs</td>\n",
       "      <td>1</td>\n",
       "      <td>best_weather</td>\n",
       "      <td>8.200000</td>\n",
       "      <td>10.60610</td>\n",
       "      <td>59.0435</td>\n",
       "      <td>10.739832</td>\n",
       "      <td>108</td>\n",
       "      <td>1454</td>\n",
       "      <td>1562</td>\n",
       "      <td>04</td>\n",
       "    </tr>\n",
       "    <tr>\n",
       "      <th>4</th>\n",
       "      <td>5</td>\n",
       "      <td>spring</td>\n",
       "      <td>0</td>\n",
       "      <td>1</td>\n",
       "      <td>0</td>\n",
       "      <td>Fri</td>\n",
       "      <td>1</td>\n",
       "      <td>best_weather</td>\n",
       "      <td>9.305237</td>\n",
       "      <td>11.46350</td>\n",
       "      <td>43.6957</td>\n",
       "      <td>12.522300</td>\n",
       "      <td>82</td>\n",
       "      <td>1518</td>\n",
       "      <td>1600</td>\n",
       "      <td>05</td>\n",
       "    </tr>\n",
       "  </tbody>\n",
       "</table>\n",
       "</div>"
      ],
      "text/plain": [
       "   instant  season  yr  mnth  holiday weekday  workingday    weathersit   \n",
       "0        1  spring   0     1        0     Mon           0   avg_weather  \\\n",
       "1        2  spring   0     1        0    Tues           0   avg_weather   \n",
       "2        3  spring   0     1        0     Wed           1  best_weather   \n",
       "3        4  spring   0     1        0   Thurs           1  best_weather   \n",
       "4        5  spring   0     1        0     Fri           1  best_weather   \n",
       "\n",
       "        temp     atemp      hum  windspeed  casual  registered   cnt day  \n",
       "0  14.110847  18.18125  80.5833  10.749882     331         654   985  01  \n",
       "1  14.902598  17.68695  69.6087  16.652113     131         670   801  02  \n",
       "2   8.050924   9.47025  43.7273  16.636703     120        1229  1349  03  \n",
       "3   8.200000  10.60610  59.0435  10.739832     108        1454  1562  04  \n",
       "4   9.305237  11.46350  43.6957  12.522300      82        1518  1600  05  "
      ]
     },
     "execution_count": 5,
     "metadata": {},
     "output_type": "execute_result"
    }
   ],
   "source": [
    "df['season'] = df['season'].map({\n",
    "    1: 'spring',\n",
    "    2: 'summer',\n",
    "    3: 'fall',\n",
    "    4: 'winter'\n",
    "})\n",
    "df['weekday'] = df['weekday'].map({\n",
    "    0: 'Tues',\n",
    "    1: 'Wed', \n",
    "    2: 'Thurs', \n",
    "    3: 'Fri', \n",
    "    4: 'Sat', \n",
    "    5: 'Sun', \n",
    "    6: 'Mon'\n",
    "})\n",
    "df['weathersit'] = df['weathersit'].map({\n",
    "    1: 'best_weather',\n",
    "    2: 'avg_weather',\n",
    "    3: 'bad_weather',\n",
    "    4: 'worst_weather'\n",
    "})\n",
    "\n",
    "df.head()"
   ]
  },
  {
   "cell_type": "markdown",
   "id": "dd4eba8c",
   "metadata": {},
   "source": [
    "Checking the number of unique values in each column to figure out categorical and numeric columns"
   ]
  },
  {
   "cell_type": "code",
   "execution_count": 6,
   "id": "cac42a29",
   "metadata": {},
   "outputs": [
    {
     "data": {
      "text/plain": [
       "instant       730\n",
       "season          4\n",
       "yr              2\n",
       "mnth           12\n",
       "holiday         2\n",
       "weekday         7\n",
       "workingday      2\n",
       "weathersit      3\n",
       "temp          498\n",
       "atemp         689\n",
       "hum           594\n",
       "windspeed     649\n",
       "casual        605\n",
       "registered    678\n",
       "cnt           695\n",
       "day            31\n",
       "dtype: int64"
      ]
     },
     "execution_count": 6,
     "metadata": {},
     "output_type": "execute_result"
    }
   ],
   "source": [
    "df.nunique()"
   ]
  },
  {
   "cell_type": "markdown",
   "id": "d919b6d9",
   "metadata": {},
   "source": [
    "So,\n",
    "- X numeric columns: temp, atemp, hum, windspeed\n",
    "- X categorical columns: season, yr, mnth, holiday, weekday, workingday, weathersit\n",
    "- X date columns: dteday\n",
    "- Y(target) variable: cnt\n",
    "- Y non useful variable: casual, registered\n",
    "- index columns: instant"
   ]
  },
  {
   "cell_type": "markdown",
   "id": "1c6e5a9e",
   "metadata": {},
   "source": [
    "#### Separating the Categorical and Numercal X and y Columns"
   ]
  },
  {
   "cell_type": "code",
   "execution_count": 7,
   "id": "abfff357",
   "metadata": {},
   "outputs": [],
   "source": [
    "X_num_cols = ['temp', 'atemp', 'hum', 'windspeed']\n",
    "X_cat_cols = ['season', 'yr', 'day', 'mnth', 'holiday', 'weekday', 'workingday', 'weathersit']\n",
    "other_cols = [ 'instant', 'casual', 'registered' ]\n",
    "\n",
    "y_col = 'cnt'"
   ]
  },
  {
   "cell_type": "markdown",
   "id": "19a61949",
   "metadata": {},
   "source": [
    "Dropping other columns other than X and y"
   ]
  },
  {
   "cell_type": "code",
   "execution_count": 8,
   "id": "f6c9ef12",
   "metadata": {},
   "outputs": [],
   "source": [
    "df.drop(columns=other_cols, inplace=True)"
   ]
  },
  {
   "cell_type": "markdown",
   "id": "6b427a7b",
   "metadata": {},
   "source": [
    "#### Analysis on X Numeric Columns"
   ]
  },
  {
   "cell_type": "code",
   "execution_count": 9,
   "id": "18bf151a",
   "metadata": {},
   "outputs": [
    {
     "data": {
      "text/html": [
       "<div>\n",
       "<style scoped>\n",
       "    .dataframe tbody tr th:only-of-type {\n",
       "        vertical-align: middle;\n",
       "    }\n",
       "\n",
       "    .dataframe tbody tr th {\n",
       "        vertical-align: top;\n",
       "    }\n",
       "\n",
       "    .dataframe thead th {\n",
       "        text-align: right;\n",
       "    }\n",
       "</style>\n",
       "<table border=\"1\" class=\"dataframe\">\n",
       "  <thead>\n",
       "    <tr style=\"text-align: right;\">\n",
       "      <th></th>\n",
       "      <th>temp</th>\n",
       "      <th>atemp</th>\n",
       "      <th>hum</th>\n",
       "      <th>windspeed</th>\n",
       "    </tr>\n",
       "  </thead>\n",
       "  <tbody>\n",
       "    <tr>\n",
       "      <th>count</th>\n",
       "      <td>730.000000</td>\n",
       "      <td>730.000000</td>\n",
       "      <td>730.000000</td>\n",
       "      <td>730.000000</td>\n",
       "    </tr>\n",
       "    <tr>\n",
       "      <th>mean</th>\n",
       "      <td>20.319259</td>\n",
       "      <td>23.726322</td>\n",
       "      <td>62.765175</td>\n",
       "      <td>12.763620</td>\n",
       "    </tr>\n",
       "    <tr>\n",
       "      <th>std</th>\n",
       "      <td>7.506729</td>\n",
       "      <td>8.150308</td>\n",
       "      <td>14.237589</td>\n",
       "      <td>5.195841</td>\n",
       "    </tr>\n",
       "    <tr>\n",
       "      <th>min</th>\n",
       "      <td>2.424346</td>\n",
       "      <td>3.953480</td>\n",
       "      <td>0.000000</td>\n",
       "      <td>1.500244</td>\n",
       "    </tr>\n",
       "    <tr>\n",
       "      <th>25%</th>\n",
       "      <td>13.811885</td>\n",
       "      <td>16.889713</td>\n",
       "      <td>52.000000</td>\n",
       "      <td>9.041650</td>\n",
       "    </tr>\n",
       "    <tr>\n",
       "      <th>50%</th>\n",
       "      <td>20.465826</td>\n",
       "      <td>24.368225</td>\n",
       "      <td>62.625000</td>\n",
       "      <td>12.125325</td>\n",
       "    </tr>\n",
       "    <tr>\n",
       "      <th>75%</th>\n",
       "      <td>26.880615</td>\n",
       "      <td>30.445775</td>\n",
       "      <td>72.989575</td>\n",
       "      <td>15.625589</td>\n",
       "    </tr>\n",
       "    <tr>\n",
       "      <th>max</th>\n",
       "      <td>35.328347</td>\n",
       "      <td>42.044800</td>\n",
       "      <td>97.250000</td>\n",
       "      <td>34.000021</td>\n",
       "    </tr>\n",
       "  </tbody>\n",
       "</table>\n",
       "</div>"
      ],
      "text/plain": [
       "             temp       atemp         hum   windspeed\n",
       "count  730.000000  730.000000  730.000000  730.000000\n",
       "mean    20.319259   23.726322   62.765175   12.763620\n",
       "std      7.506729    8.150308   14.237589    5.195841\n",
       "min      2.424346    3.953480    0.000000    1.500244\n",
       "25%     13.811885   16.889713   52.000000    9.041650\n",
       "50%     20.465826   24.368225   62.625000   12.125325\n",
       "75%     26.880615   30.445775   72.989575   15.625589\n",
       "max     35.328347   42.044800   97.250000   34.000021"
      ]
     },
     "execution_count": 9,
     "metadata": {},
     "output_type": "execute_result"
    }
   ],
   "source": [
    "df[ X_num_cols ].describe()"
   ]
  },
  {
   "cell_type": "code",
   "execution_count": null,
   "id": "8dc94cbe",
   "metadata": {},
   "outputs": [],
   "source": [
    "sns.pairplot(df[ X_num_cols + [y_col] ])\n",
    "plt.show()"
   ]
  },
  {
   "cell_type": "markdown",
   "id": "1b99c36b",
   "metadata": {},
   "source": [
    "2 major takeaways:\n",
    "- temp and atemp seems to be highly correlated.\n",
    "- There seems to be a small linear relationship bw target variable cnt, and the variables temp and atemp."
   ]
  },
  {
   "cell_type": "code",
   "execution_count": null,
   "id": "e89e981b",
   "metadata": {},
   "outputs": [],
   "source": [
    "sns.heatmap( df[ X_num_cols + [y_col] ].corr(), annot=True )\n",
    "plt.show()"
   ]
  },
  {
   "cell_type": "markdown",
   "id": "d5611921",
   "metadata": {},
   "source": [
    "The above mentioned 2 points are confirmed. In addition to that, \n",
    "- There also seems to be a negative correlation of target variable with the windspeed\n",
    "- There seems to be no linear correlation between humidity and target variable cnt"
   ]
  },
  {
   "cell_type": "markdown",
   "id": "46af164d",
   "metadata": {},
   "source": [
    "We won't be acting on these inferences at the moment. We will do so during model training and feature selection phase"
   ]
  },
  {
   "cell_type": "markdown",
   "id": "b34ddc5d",
   "metadata": {},
   "source": [
    "#### Analysis on X Categorical Columns"
   ]
  },
  {
   "cell_type": "code",
   "execution_count": null,
   "id": "4b5cc4c6",
   "metadata": {
    "scrolled": false
   },
   "outputs": [],
   "source": [
    "for col in X_cat_cols:\n",
    "    sns.boxplot(data=df, x=col, y='cnt')\n",
    "    plt.show()"
   ]
  },
  {
   "cell_type": "markdown",
   "id": "7048eaaa",
   "metadata": {},
   "source": [
    "Following inferences can be made:\n",
    "- business seems to be worse during the spring and best during the fall. It increases from spring to fall, and decreases from fall to spring.\n",
    "- More business happenned in 2019 than 2018\n",
    "- no observable trend between the days and business\n",
    "- Relationship with months and business mimicks the relation seen with seasons.\n",
    "- Business seems to low during holidays\n",
    "- no observable trend bw weekdays and business\n",
    "- business seems to do a bit better during workdays\n",
    "- business does better with better weather"
   ]
  },
  {
   "cell_type": "markdown",
   "id": "fdf1d788",
   "metadata": {},
   "source": [
    "# Step 2: Preparing The Data for Modelling"
   ]
  },
  {
   "cell_type": "markdown",
   "id": "18f1d8c0",
   "metadata": {},
   "source": [
    "## Encoding"
   ]
  },
  {
   "cell_type": "code",
   "execution_count": null,
   "id": "da48be86",
   "metadata": {},
   "outputs": [],
   "source": [
    "for col in X_cat_cols:\n",
    "    print(f\"Col: {col} | Unique values: {df[ col ].unique()}\")"
   ]
  },
  {
   "cell_type": "markdown",
   "id": "33c85905",
   "metadata": {},
   "source": [
    "So,"
   ]
  },
  {
   "cell_type": "code",
   "execution_count": null,
   "id": "000c38fd",
   "metadata": {},
   "outputs": [],
   "source": [
    "X_cat_cols_wth_mult_cats = [ 'season', 'day', 'mnth', 'weekday', 'weathersit' ]"
   ]
  },
  {
   "cell_type": "code",
   "execution_count": null,
   "id": "e3c96095",
   "metadata": {},
   "outputs": [],
   "source": [
    "for col in X_cat_cols_wth_mult_cats:\n",
    "    df[ col ] = df[ col ].astype(str)"
   ]
  },
  {
   "cell_type": "code",
   "execution_count": null,
   "id": "e044ec0c",
   "metadata": {},
   "outputs": [],
   "source": [
    "df_dummy_vars = pd.get_dummies(df[ X_cat_cols_wth_mult_cats ], drop_first=True, dtype=int)\n",
    "collist_dummy_vars = list(df_dummy_vars.columns)\n",
    "\n",
    "df.drop(columns=X_cat_cols_wth_mult_cats, inplace=True)\n",
    "\n",
    "df = pd.concat([ df, df_dummy_vars ], axis=1)\n",
    "\n",
    "df.columns"
   ]
  },
  {
   "cell_type": "markdown",
   "id": "b7c0681d",
   "metadata": {},
   "source": [
    "Now the X categorical columns becomes"
   ]
  },
  {
   "cell_type": "code",
   "execution_count": null,
   "id": "3b2e0c42",
   "metadata": {},
   "outputs": [],
   "source": [
    "X_cat_cols = [ 'yr', 'holiday', 'workingday' ] + collist_dummy_vars\n",
    "X_cat_cols"
   ]
  },
  {
   "cell_type": "markdown",
   "id": "9b26362e",
   "metadata": {},
   "source": [
    "## Splitting into Train and Test Set"
   ]
  },
  {
   "cell_type": "code",
   "execution_count": null,
   "id": "dffb5c1e",
   "metadata": {},
   "outputs": [],
   "source": [
    "df_train, df_test = train_test_split(df, train_size=0.8, random_state=100)\n",
    "\n",
    "print(df_train.shape)\n",
    "print(df_test.shape)"
   ]
  },
  {
   "cell_type": "code",
   "execution_count": null,
   "id": "e20a11cc",
   "metadata": {},
   "outputs": [],
   "source": [
    "y_train = df_train.pop(y_col)\n",
    "X_train = df_train\n",
    "print(y_train.shape)\n",
    "print(X_train.shape)"
   ]
  },
  {
   "cell_type": "code",
   "execution_count": null,
   "id": "59dd627b",
   "metadata": {},
   "outputs": [],
   "source": [
    "y_test = df_test.pop(y_col)\n",
    "X_test = df_test\n",
    "\n",
    "print(y_test.shape)\n",
    "print(X_test.shape)"
   ]
  },
  {
   "cell_type": "markdown",
   "id": "efdabf90",
   "metadata": {},
   "source": [
    "## Re-scaling the Features"
   ]
  },
  {
   "cell_type": "markdown",
   "id": "5a8d0a09",
   "metadata": {},
   "source": [
    "Using Min-Max scaling, so that it will take care of the outliers"
   ]
  },
  {
   "cell_type": "code",
   "execution_count": null,
   "id": "03d1d24f",
   "metadata": {},
   "outputs": [],
   "source": [
    "scaler = MinMaxScaler()\n",
    "X_train[ X_num_cols ] = scaler.fit_transform( X_train[ X_num_cols ] )\n",
    "X_train.describe()"
   ]
  },
  {
   "cell_type": "markdown",
   "id": "e338520f",
   "metadata": {},
   "source": [
    "# Step 3: Building the Model"
   ]
  },
  {
   "cell_type": "markdown",
   "id": "c7a4e710",
   "metadata": {},
   "source": [
    "#### First Draft of the Model"
   ]
  },
  {
   "cell_type": "code",
   "execution_count": null,
   "id": "5e951d04",
   "metadata": {
    "scrolled": true
   },
   "outputs": [],
   "source": [
    "X_train_sm = sm.add_constant(X_train)\n",
    "\n",
    "lr = sm.OLS(y_train, X_train_sm)\n",
    "lr_model = lr.fit()\n",
    "\n",
    "lr_model.summary()"
   ]
  },
  {
   "cell_type": "markdown",
   "id": "3ac77e5d",
   "metadata": {},
   "source": [
    "As is evident, lot of variables can be eliminated using feature selection."
   ]
  },
  {
   "cell_type": "markdown",
   "id": "5f6ec699",
   "metadata": {},
   "source": [
    "First doing Coarse Tuning using Automated Approach"
   ]
  },
  {
   "cell_type": "markdown",
   "id": "bc8efefe",
   "metadata": {},
   "source": [
    "## Feature Selection"
   ]
  },
  {
   "cell_type": "markdown",
   "id": "d2a22f3b",
   "metadata": {},
   "source": [
    "### Feature Selection: Coarse Tuning using RFE"
   ]
  },
  {
   "cell_type": "markdown",
   "id": "1243c8f4",
   "metadata": {},
   "source": [
    "Getting no of RFE high ranking columns vs R2 Score of the model created"
   ]
  },
  {
   "cell_type": "code",
   "execution_count": null,
   "id": "4905b9cd",
   "metadata": {
    "scrolled": false
   },
   "outputs": [],
   "source": [
    "list_ncols_vs_r2 = []\n",
    "\n",
    "for ncols in range(1, len(X_train.columns)+1):\n",
    "    lr = LinearRegression()\n",
    "    rfe = RFE(lr, n_features_to_select=ncols)\n",
    "    rfe = rfe.fit(X_train, y_train)\n",
    "    \n",
    "    rfe_y_train_pred = rfe.predict(X_train)\n",
    "    rfe_train_r2_score = r2_score(y_train, rfe_y_train_pred)\n",
    "    \n",
    "    list_ncols_vs_r2 += [ [ncols, rfe_train_r2_score] ]\n",
    "    \n",
    "df_ncols_vs_r2 = pd.DataFrame(list_ncols_vs_r2, columns=[ 'no_of_rfe_high_ranking_columns', 'r2_score' ])\n",
    "df_ncols_vs_r2"
   ]
  },
  {
   "cell_type": "code",
   "execution_count": null,
   "id": "7e4ecb98",
   "metadata": {},
   "outputs": [],
   "source": [
    "plt.figure(figsize=(20,5))\n",
    "\n",
    "plt.plot(df_ncols_vs_r2['no_of_rfe_high_ranking_columns'], df_ncols_vs_r2['r2_score'], label='ncols_vs_r2score')\n",
    "plt.axvline(x=13, color='r', linewidth=0.5, label='no_change_after_this_point')\n",
    "\n",
    "plt.xlabel('no_of_rfe_high_ranking_columns')\n",
    "plt.ylabel('r2_score')\n",
    "\n",
    "plt.xticks(np.arange(min(df_ncols_vs_r2['no_of_rfe_high_ranking_columns']), \\\n",
    "                     max(df_ncols_vs_r2['no_of_rfe_high_ranking_columns'])+1, 1))\n",
    "plt.legend()\n",
    "plt.show()"
   ]
  },
  {
   "cell_type": "markdown",
   "id": "4c6e4f28",
   "metadata": {},
   "source": [
    "As is evident from the dataframe and graph above, not much difference in R2 score after taking 13 RFE highest ranked variables"
   ]
  },
  {
   "cell_type": "markdown",
   "id": "3be85953",
   "metadata": {},
   "source": [
    "So, its logical to take 13 high ranked columns for further fine tuning"
   ]
  },
  {
   "cell_type": "markdown",
   "id": "2794c02e",
   "metadata": {},
   "source": [
    "But before that, checking if we are missing any business important variables in the rest of the columns"
   ]
  },
  {
   "cell_type": "code",
   "execution_count": null,
   "id": "6bb4d93f",
   "metadata": {
    "scrolled": true
   },
   "outputs": [],
   "source": [
    "lr = LinearRegression()\n",
    "rfe = RFE(lr, n_features_to_select=1)\n",
    "rfe = rfe.fit(X_train, y_train)\n",
    "\n",
    "list_rfe_col_ranking = list(zip( X_train.columns, rfe.ranking_ ))\n",
    "df_rfe_col_ranking = pd.DataFrame(list_rfe_col_ranking, columns=['column', 'rfe_rank'])\n",
    "df_rfe_col_ranking.sort_values(inplace=True, by='rfe_rank', ignore_index=True)\n",
    "df_rfe_col_ranking"
   ]
  },
  {
   "cell_type": "markdown",
   "id": "edb67e2b",
   "metadata": {},
   "source": [
    "From all the EDA done previously, seasons did seem to have an impact in the target variable."
   ]
  },
  {
   "cell_type": "markdown",
   "id": "26cad2d5",
   "metadata": {},
   "source": [
    "If we take only till the first 13 ranked columns, we will be dropping the season_spring column. <br>\n",
    "From the EDA done before, it seemed that seasons did play an important part. <br>\n",
    "So, taking till the first 21 ranked columns so as to also include season_spring."
   ]
  },
  {
   "cell_type": "code",
   "execution_count": null,
   "id": "469462b2",
   "metadata": {},
   "outputs": [],
   "source": [
    "lr = LinearRegression()\n",
    "rfe = RFE(lr, n_features_to_select=21)\n",
    "rfe = rfe.fit(X_train, y_train)\n",
    "\n",
    "X_rfe_filt_cols = list(X_train.columns[ rfe.support_ ])\n",
    "X_rfe_filt_cols"
   ]
  },
  {
   "cell_type": "markdown",
   "id": "d1cae8b3",
   "metadata": {},
   "source": [
    "### Feature Selection: Fine Tuning"
   ]
  },
  {
   "cell_type": "markdown",
   "id": "653f6259",
   "metadata": {},
   "source": [
    "We take RFE filtered columns as first draft of X columns after feature selection "
   ]
  },
  {
   "cell_type": "code",
   "execution_count": null,
   "id": "47a5b815",
   "metadata": {},
   "outputs": [],
   "source": [
    "X_train_sm = sm.add_constant( X_train[ X_rfe_filt_cols ] )\n",
    "lr = sm.OLS(y_train, X_train_sm)\n",
    "lr_model = lr.fit()\n",
    "\n",
    "lr_model.summary()"
   ]
  },
  {
   "cell_type": "code",
   "execution_count": null,
   "id": "e63c02d4",
   "metadata": {},
   "outputs": [],
   "source": [
    "list_col_vs_vif = []\n",
    "for idx, col in enumerate(X_rfe_filt_cols):\n",
    "    vif = variance_inflation_factor(X_train[ X_rfe_filt_cols ].values, idx)\n",
    "    list_col_vs_vif += [ [col, vif] ]\n",
    "    \n",
    "df_col_vs_vif = pd.DataFrame(list_col_vs_vif, columns=[ 'column', 'VIF' ])\n",
    "df_col_vs_vif"
   ]
  },
  {
   "cell_type": "markdown",
   "id": "1ef4ac96",
   "metadata": {},
   "source": [
    "atemp is insignificant, since it has a p-value greater than 0.05."
   ]
  },
  {
   "cell_type": "markdown",
   "id": "f38ac37c",
   "metadata": {},
   "source": [
    "So, creating second draft of X columns that does not contain atemp"
   ]
  },
  {
   "cell_type": "markdown",
   "id": "3594d506",
   "metadata": {},
   "source": [
    "##### 2nd Column Draft"
   ]
  },
  {
   "cell_type": "code",
   "execution_count": null,
   "id": "a985a81f",
   "metadata": {},
   "outputs": [],
   "source": [
    "X_rfe_filt_cols = [ col for col in X_rfe_filt_cols if col != 'atemp' ]\n",
    "X_rfe_filt_cols"
   ]
  },
  {
   "cell_type": "code",
   "execution_count": null,
   "id": "4bb68ef6",
   "metadata": {},
   "outputs": [],
   "source": [
    "X_train_sm = sm.add_constant( X_train[ X_rfe_filt_cols ] )\n",
    "lr = sm.OLS(y_train, X_train_sm)\n",
    "lr_model = lr.fit()\n",
    "\n",
    "lr_model.summary()"
   ]
  },
  {
   "cell_type": "code",
   "execution_count": null,
   "id": "11a572dc",
   "metadata": {},
   "outputs": [],
   "source": [
    "list_col_vs_vif = []\n",
    "for idx, col in enumerate(X_rfe_filt_cols):\n",
    "    vif = variance_inflation_factor(X_train[ X_rfe_filt_cols ].values, idx)\n",
    "    list_col_vs_vif += [ [col, vif] ]\n",
    "    \n",
    "df_col_vs_vif = pd.DataFrame(list_col_vs_vif, columns=[ 'column', 'VIF' ])\n",
    "df_col_vs_vif"
   ]
  },
  {
   "cell_type": "markdown",
   "id": "eaa4307c",
   "metadata": {},
   "source": [
    "All the p-values of variables are below 0.05.<br>\n",
    "But there are correlations bw the columns in the second draft"
   ]
  },
  {
   "cell_type": "markdown",
   "id": "126f75c9",
   "metadata": {},
   "source": [
    "workingday has the highest VIF, and is > 5."
   ]
  },
  {
   "cell_type": "markdown",
   "id": "25642a23",
   "metadata": {},
   "source": [
    "So, creating a 3rd draft dropping workingday"
   ]
  },
  {
   "cell_type": "markdown",
   "id": "64045d19",
   "metadata": {},
   "source": [
    "##### 3rd Column Draft"
   ]
  },
  {
   "cell_type": "code",
   "execution_count": null,
   "id": "cf35eba1",
   "metadata": {},
   "outputs": [],
   "source": [
    "X_rfe_filt_cols = [ col for col in X_rfe_filt_cols if col != 'workingday' ]\n",
    "X_rfe_filt_cols"
   ]
  },
  {
   "cell_type": "code",
   "execution_count": null,
   "id": "5a296490",
   "metadata": {},
   "outputs": [],
   "source": [
    "X_train_sm = sm.add_constant( X_train[ X_rfe_filt_cols ] )\n",
    "lr = sm.OLS(y_train, X_train_sm)\n",
    "lr_model = lr.fit()\n",
    "\n",
    "lr_model.summary()"
   ]
  },
  {
   "cell_type": "code",
   "execution_count": null,
   "id": "42265035",
   "metadata": {},
   "outputs": [],
   "source": [
    "list_col_vs_vif = []\n",
    "for idx, col in enumerate(X_rfe_filt_cols):\n",
    "    vif = variance_inflation_factor(X_train[ X_rfe_filt_cols ].values, idx)\n",
    "    list_col_vs_vif += [ [col, vif] ]\n",
    "    \n",
    "df_col_vs_vif = pd.DataFrame(list_col_vs_vif, columns=[ 'column', 'VIF' ])\n",
    "df_col_vs_vif"
   ]
  },
  {
   "cell_type": "markdown",
   "id": "fe0ac0ec",
   "metadata": {},
   "source": [
    "weekday_Mon has the highest p-value and is > 0.05"
   ]
  },
  {
   "cell_type": "markdown",
   "id": "22415c7d",
   "metadata": {},
   "source": [
    "So, creating a 4th draft dropping weekday_Mon"
   ]
  },
  {
   "cell_type": "markdown",
   "id": "6b85a097",
   "metadata": {},
   "source": [
    "##### 4rd Column Draft"
   ]
  },
  {
   "cell_type": "code",
   "execution_count": null,
   "id": "8e64fb4d",
   "metadata": {},
   "outputs": [],
   "source": [
    "X_rfe_filt_cols = [ col for col in X_rfe_filt_cols if col != 'weekday_Mon' ]\n",
    "X_rfe_filt_cols"
   ]
  },
  {
   "cell_type": "code",
   "execution_count": null,
   "id": "63582174",
   "metadata": {},
   "outputs": [],
   "source": [
    "X_train_sm = sm.add_constant( X_train[ X_rfe_filt_cols ] )\n",
    "lr = sm.OLS(y_train, X_train_sm)\n",
    "lr_model = lr.fit()\n",
    "\n",
    "lr_model.summary()"
   ]
  },
  {
   "cell_type": "code",
   "execution_count": null,
   "id": "68e31380",
   "metadata": {},
   "outputs": [],
   "source": [
    "list_col_vs_vif = []\n",
    "for idx, col in enumerate(X_rfe_filt_cols):\n",
    "    vif = variance_inflation_factor(X_train[ X_rfe_filt_cols ].values, idx)\n",
    "    list_col_vs_vif += [ [col, vif] ]\n",
    "    \n",
    "df_col_vs_vif = pd.DataFrame(list_col_vs_vif, columns=[ 'column', 'VIF' ])\n",
    "df_col_vs_vif"
   ]
  },
  {
   "cell_type": "markdown",
   "id": "3d3ebdbd",
   "metadata": {},
   "source": [
    "All p-values < 0.05 <br>\n",
    "But there are correlations > 5!"
   ]
  },
  {
   "cell_type": "markdown",
   "id": "87124fb7",
   "metadata": {},
   "source": [
    "hum has the highest VIF, and >5. So dropping hum"
   ]
  },
  {
   "cell_type": "markdown",
   "id": "2863d506",
   "metadata": {},
   "source": [
    "##### 5rd Column Draft"
   ]
  },
  {
   "cell_type": "code",
   "execution_count": null,
   "id": "c40cae4d",
   "metadata": {},
   "outputs": [],
   "source": [
    "X_rfe_filt_cols = [ col for col in X_rfe_filt_cols if col != 'hum' ]\n",
    "X_rfe_filt_cols"
   ]
  },
  {
   "cell_type": "code",
   "execution_count": null,
   "id": "2ca51365",
   "metadata": {},
   "outputs": [],
   "source": [
    "X_train_sm = sm.add_constant( X_train[ X_rfe_filt_cols ] )\n",
    "lr = sm.OLS(y_train, X_train_sm)\n",
    "lr_model = lr.fit()\n",
    "\n",
    "lr_model.summary()"
   ]
  },
  {
   "cell_type": "code",
   "execution_count": null,
   "id": "6ee2a3cd",
   "metadata": {
    "scrolled": false
   },
   "outputs": [],
   "source": [
    "list_col_vs_vif = []\n",
    "for idx, col in enumerate(X_rfe_filt_cols):\n",
    "    vif = variance_inflation_factor(X_train[ X_rfe_filt_cols ].values, idx)\n",
    "    list_col_vs_vif += [ [col, vif] ]\n",
    "    \n",
    "df_col_vs_vif = pd.DataFrame(list_col_vs_vif, columns=[ 'column', 'VIF' ])\n",
    "df_col_vs_vif"
   ]
  },
  {
   "cell_type": "markdown",
   "id": "d8f12418",
   "metadata": {},
   "source": [
    "All p-values < 0.05 <br>\n",
    "But there are correlations > 5!"
   ]
  },
  {
   "cell_type": "markdown",
   "id": "4af2858a",
   "metadata": {},
   "source": [
    "temp has high correlation. But choosing to not drop it, since EDA had shown a good relation with the target variable"
   ]
  },
  {
   "cell_type": "markdown",
   "id": "325dd0b7",
   "metadata": {},
   "source": [
    "So, choosing to drop day_20 due to its near 0.05 p-value"
   ]
  },
  {
   "cell_type": "markdown",
   "id": "b55e5041",
   "metadata": {},
   "source": [
    "##### 6rd Column Draft"
   ]
  },
  {
   "cell_type": "code",
   "execution_count": null,
   "id": "c04b83af",
   "metadata": {},
   "outputs": [],
   "source": [
    "X_rfe_filt_cols = [ col for col in X_rfe_filt_cols if col != 'day_20' ]\n",
    "X_rfe_filt_cols"
   ]
  },
  {
   "cell_type": "code",
   "execution_count": null,
   "id": "6fe64f2a",
   "metadata": {},
   "outputs": [],
   "source": [
    "X_train_sm = sm.add_constant( X_train[ X_rfe_filt_cols ] )\n",
    "lr = sm.OLS(y_train, X_train_sm)\n",
    "lr_model = lr.fit()\n",
    "\n",
    "lr_model.summary()"
   ]
  },
  {
   "cell_type": "code",
   "execution_count": null,
   "id": "b6ae2034",
   "metadata": {
    "scrolled": false
   },
   "outputs": [],
   "source": [
    "list_col_vs_vif = []\n",
    "for idx, col in enumerate(X_rfe_filt_cols):\n",
    "    vif = variance_inflation_factor(X_train[ X_rfe_filt_cols ].values, idx)\n",
    "    list_col_vs_vif += [ [col, vif] ]\n",
    "    \n",
    "df_col_vs_vif = pd.DataFrame(list_col_vs_vif, columns=[ 'column', 'VIF' ])\n",
    "df_col_vs_vif"
   ]
  },
  {
   "cell_type": "markdown",
   "id": "ecb6525e",
   "metadata": {},
   "source": [
    "temp variable have > 5 VIF. But not choosing to drop (reason stated in previous draft)"
   ]
  },
  {
   "cell_type": "markdown",
   "id": "b0898e2b",
   "metadata": {},
   "source": [
    "But choosing to drop the next biggest VIF variable windspeed, <br>\n",
    "since it does have high correlation with temp (from EDA)"
   ]
  },
  {
   "cell_type": "markdown",
   "id": "ea7b9342",
   "metadata": {},
   "source": [
    "##### 7rd Column Draft"
   ]
  },
  {
   "cell_type": "code",
   "execution_count": null,
   "id": "c6aae7f8",
   "metadata": {
    "scrolled": true
   },
   "outputs": [],
   "source": [
    "X_rfe_filt_cols = [ col for col in X_rfe_filt_cols if col != 'windspeed' ]\n",
    "X_rfe_filt_cols"
   ]
  },
  {
   "cell_type": "code",
   "execution_count": null,
   "id": "74051dc7",
   "metadata": {},
   "outputs": [],
   "source": [
    "X_train_sm = sm.add_constant( X_train[ X_rfe_filt_cols ] )\n",
    "lr = sm.OLS(y_train, X_train_sm)\n",
    "lr_model = lr.fit()\n",
    "\n",
    "lr_model.summary()"
   ]
  },
  {
   "cell_type": "code",
   "execution_count": null,
   "id": "4c4af46f",
   "metadata": {
    "scrolled": false
   },
   "outputs": [],
   "source": [
    "list_col_vs_vif = []\n",
    "for idx, col in enumerate(X_rfe_filt_cols):\n",
    "    vif = variance_inflation_factor(X_train[ X_rfe_filt_cols ].values, idx)\n",
    "    list_col_vs_vif += [ [col, vif] ]\n",
    "    \n",
    "df_col_vs_vif = pd.DataFrame(list_col_vs_vif, columns=[ 'column', 'VIF' ])\n",
    "df_col_vs_vif"
   ]
  },
  {
   "cell_type": "markdown",
   "id": "38312f77",
   "metadata": {},
   "source": [
    "##### Finalized Column Draft"
   ]
  },
  {
   "cell_type": "code",
   "execution_count": null,
   "id": "5dfa52a6",
   "metadata": {},
   "outputs": [],
   "source": [
    "X_final_draft_cols = X_rfe_filt_cols\n",
    "\n",
    "lr_model_final = lr_model\n",
    "\n",
    "lr_model_final.summary()"
   ]
  },
  {
   "cell_type": "markdown",
   "id": "3730d7ba",
   "metadata": {},
   "source": [
    "So, the equation looks like<br>\n",
    "y = 526.45<br>+2001.47\\*yr<br>-1045.42\\*holiday<br>+4180.74\\*temp<br>-508.86\\*season_spring<br>+603.29\\*season_summer<br>+833.91\\*season_winter<br>+387.93\\*day_11<br>+452.76\\*day_16<br>+388.27\\*day_17<br>+433.68\\*mnth_10<br>+340.26\\*mnth_8<br>+912.70\\*mnth_9<br>-460.89\\*weekday_Tues<br>-2076.14\\*weathersit_bad_weather<br>+707.02\\*weathersit_best_weather"
   ]
  },
  {
   "cell_type": "markdown",
   "id": "91d51f1c",
   "metadata": {},
   "source": [
    "# Step 4: Residual Analysis"
   ]
  },
  {
   "cell_type": "code",
   "execution_count": null,
   "id": "bcf1807a",
   "metadata": {},
   "outputs": [],
   "source": [
    "X_train_final_draft_sm = sm.add_constant(X_train[ X_final_draft_cols ])\n",
    "y_train_pred = lr_model_final.predict( X_train_final_draft_sm )\n",
    "\n",
    "res = y_train - y_train_pred"
   ]
  },
  {
   "cell_type": "code",
   "execution_count": null,
   "id": "86d1be12",
   "metadata": {},
   "outputs": [],
   "source": [
    "sns.distplot(res)\n",
    "plt.show()"
   ]
  },
  {
   "cell_type": "markdown",
   "id": "f533c7dc",
   "metadata": {},
   "source": [
    "As is evident from the graph,\n",
    "- The residuals are centered around 0\n",
    "- The residuals follow a normal distribution"
   ]
  },
  {
   "cell_type": "markdown",
   "id": "4561b60c",
   "metadata": {},
   "source": [
    "So, our assumptions are valid"
   ]
  },
  {
   "cell_type": "markdown",
   "id": "7406d27b",
   "metadata": {},
   "source": [
    "# Step 5: Predictions and Evaluations on the Test Set"
   ]
  },
  {
   "cell_type": "markdown",
   "id": "f9a9bece",
   "metadata": {},
   "source": [
    "## Rescaling"
   ]
  },
  {
   "cell_type": "code",
   "execution_count": null,
   "id": "1e59a9fe",
   "metadata": {},
   "outputs": [],
   "source": [
    "X_test[ X_num_cols ] = scaler.transform(X_test[ X_num_cols ])\n",
    "X_test[ X_num_cols ].describe()"
   ]
  },
  {
   "cell_type": "markdown",
   "id": "e72f1ac9",
   "metadata": {},
   "source": [
    "## Predict"
   ]
  },
  {
   "cell_type": "code",
   "execution_count": null,
   "id": "38519a15",
   "metadata": {},
   "outputs": [],
   "source": [
    "X_test_final_draft_sm = sm.add_constant( X_test[ X_final_draft_cols ] )\n",
    "y_test_pred = lr_model_final.predict( X_test_final_draft_sm )"
   ]
  },
  {
   "cell_type": "markdown",
   "id": "b1a64ab1",
   "metadata": {},
   "source": [
    "## Test R2-Score"
   ]
  },
  {
   "cell_type": "code",
   "execution_count": null,
   "id": "72832b88",
   "metadata": {},
   "outputs": [],
   "source": [
    "test_r2_score = r2_score(y_true=y_test, y_pred=y_test_pred)\n",
    "test_r2_score"
   ]
  }
 ],
 "metadata": {
  "kernelspec": {
   "display_name": "Python 3 (ipykernel)",
   "language": "python",
   "name": "python3"
  },
  "language_info": {
   "codemirror_mode": {
    "name": "ipython",
    "version": 3
   },
   "file_extension": ".py",
   "mimetype": "text/x-python",
   "name": "python",
   "nbconvert_exporter": "python",
   "pygments_lexer": "ipython3",
   "version": "3.10.10"
  }
 },
 "nbformat": 4,
 "nbformat_minor": 5
}
